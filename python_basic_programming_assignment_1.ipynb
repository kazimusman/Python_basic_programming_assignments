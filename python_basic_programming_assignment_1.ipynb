{
 "cells": [
  {
   "cell_type": "markdown",
   "id": "5fb32054",
   "metadata": {},
   "source": [
    "#                        Python Programming Basic Assignment 1"
   ]
  },
  {
   "cell_type": "code",
   "execution_count": 9,
   "id": "f8e5f595",
   "metadata": {},
   "outputs": [],
   "source": [
    "#                           QUESTION 1\n",
    "# Write a python program to print 'hello Python'"
   ]
  },
  {
   "cell_type": "code",
   "execution_count": 39,
   "id": "e4202edc",
   "metadata": {},
   "outputs": [],
   "source": [
    "a = 'Hello Python'"
   ]
  },
  {
   "cell_type": "code",
   "execution_count": 41,
   "id": "a6208362",
   "metadata": {},
   "outputs": [
    {
     "name": "stdout",
     "output_type": "stream",
     "text": [
      "Hello Python\n"
     ]
    }
   ],
   "source": [
    "print(a)   "
   ]
  },
  {
   "cell_type": "code",
   "execution_count": 43,
   "id": "1d8cd743",
   "metadata": {},
   "outputs": [],
   "source": [
    "#                           QUESTION 2\n",
    "# write a Python program to do arithmatic operations addition and division"
   ]
  },
  {
   "cell_type": "code",
   "execution_count": 46,
   "id": "f48fe457",
   "metadata": {},
   "outputs": [],
   "source": [
    "a , b, c = 5 ,10 , 15"
   ]
  },
  {
   "cell_type": "code",
   "execution_count": 52,
   "id": "67fb3a59",
   "metadata": {},
   "outputs": [
    {
     "name": "stdout",
     "output_type": "stream",
     "text": [
      "30\n"
     ]
    }
   ],
   "source": [
    "d = print(a + b + c) "
   ]
  },
  {
   "cell_type": "code",
   "execution_count": 53,
   "id": "63059608",
   "metadata": {},
   "outputs": [
    {
     "name": "stdout",
     "output_type": "stream",
     "text": [
      "1.0\n"
     ]
    }
   ],
   "source": [
    "e = print((a+b)/c)"
   ]
  },
  {
   "cell_type": "code",
   "execution_count": 57,
   "id": "84c87a39",
   "metadata": {},
   "outputs": [],
   "source": [
    "#                           QUESTION 3\n",
    "# write a Python program to find the area of a triangle"
   ]
  },
  {
   "cell_type": "code",
   "execution_count": 61,
   "id": "106897d3",
   "metadata": {},
   "outputs": [
    {
     "name": "stdout",
     "output_type": "stream",
     "text": [
      "enter the base of a triangle 4\n",
      "enter the height of a triangle 5\n",
      "Area of a triangle = 10.0\n"
     ]
    }
   ],
   "source": [
    "a = int(input(\"enter the base of a triangle \"))\n",
    "b = int(input(\"enter the height of a triangle \"))\n",
    "A = (1/2)*(a*b)\n",
    "print(\"Area of a triangle =\",A)"
   ]
  },
  {
   "cell_type": "code",
   "execution_count": 62,
   "id": "0d18a781",
   "metadata": {},
   "outputs": [],
   "source": [
    "#                         QUESTION 4\n",
    "# write a Python program to swap two variables?"
   ]
  },
  {
   "cell_type": "code",
   "execution_count": 66,
   "id": "697ffd5a",
   "metadata": {},
   "outputs": [
    {
     "name": "stdout",
     "output_type": "stream",
     "text": [
      "enter a value 10\n",
      "enter b value 20\n",
      "a = 10\n",
      "b =  20\n",
      "New a = 20\n",
      "New b = 10\n"
     ]
    }
   ],
   "source": [
    "a = int(input(\"enter a value \"))\n",
    "b = int(input(\"enter b value \"))\n",
    "print('a =', a)\n",
    "print('b = ',b)\n",
    "\n",
    "temp  = a\n",
    "a = b\n",
    "b = temp\n",
    "\n",
    "print(\"New a =\",a)\n",
    "print(\"New b =\",b)"
   ]
  },
  {
   "cell_type": "code",
   "execution_count": 67,
   "id": "cef4d636",
   "metadata": {},
   "outputs": [],
   "source": [
    "#                       Question 5\n",
    "# Write a python program to generate a random number?"
   ]
  },
  {
   "cell_type": "code",
   "execution_count": 93,
   "id": "65209c91",
   "metadata": {},
   "outputs": [
    {
     "data": {
      "text/plain": [
       "5"
      ]
     },
     "execution_count": 93,
     "metadata": {},
     "output_type": "execute_result"
    }
   ],
   "source": [
    "# randint(x,y) Generates a random integer from x to y inclusive\n",
    "import random\n",
    "random.randint(0,10)"
   ]
  },
  {
   "cell_type": "code",
   "execution_count": 103,
   "id": "c2ec1506",
   "metadata": {},
   "outputs": [
    {
     "data": {
      "text/plain": [
       "3"
      ]
     },
     "execution_count": 103,
     "metadata": {},
     "output_type": "execute_result"
    }
   ],
   "source": [
    "# Generates a random integer in the range (start, stop, step)\n",
    "import random\n",
    "random.randrange(0,15,3)"
   ]
  },
  {
   "cell_type": "code",
   "execution_count": 106,
   "id": "314364e1",
   "metadata": {},
   "outputs": [
    {
     "data": {
      "text/plain": [
       "0.18506517496997277"
      ]
     },
     "execution_count": 106,
     "metadata": {},
     "output_type": "execute_result"
    }
   ],
   "source": [
    "# Generates a random real number in the interval [0,1)\n",
    "import random\n",
    "random.random()"
   ]
  },
  {
   "cell_type": "code",
   "execution_count": 108,
   "id": "ca85d74e",
   "metadata": {},
   "outputs": [
    {
     "data": {
      "text/plain": [
       "15.758813261338124"
      ]
     },
     "execution_count": 108,
     "metadata": {},
     "output_type": "execute_result"
    }
   ],
   "source": [
    "# uniform(x,y) Generates a random real(floating-point) number bewtween x and y \n",
    "import random\n",
    "random.uniform(0,20)"
   ]
  },
  {
   "cell_type": "code",
   "execution_count": null,
   "id": "a792ba66",
   "metadata": {},
   "outputs": [],
   "source": []
  }
 ],
 "metadata": {
  "kernelspec": {
   "display_name": "Python 3",
   "language": "python",
   "name": "python3"
  },
  "language_info": {
   "codemirror_mode": {
    "name": "ipython",
    "version": 3
   },
   "file_extension": ".py",
   "mimetype": "text/x-python",
   "name": "python",
   "nbconvert_exporter": "python",
   "pygments_lexer": "ipython3",
   "version": "3.8.8"
  }
 },
 "nbformat": 4,
 "nbformat_minor": 5
}
