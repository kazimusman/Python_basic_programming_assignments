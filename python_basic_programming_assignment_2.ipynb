{
 "cells": [
  {
   "cell_type": "markdown",
   "id": "74b3a63c",
   "metadata": {},
   "source": [
    "#                              Basic Programming Assignment 2"
   ]
  },
  {
   "cell_type": "code",
   "execution_count": 5,
   "id": "bffbf81b",
   "metadata": {},
   "outputs": [],
   "source": [
    "#            QUESTION 1\n",
    "# Write a python program to convert kilometers to miles?"
   ]
  },
  {
   "cell_type": "code",
   "execution_count": 8,
   "id": "797fe208",
   "metadata": {},
   "outputs": [
    {
     "name": "stdout",
     "output_type": "stream",
     "text": [
      "enter a value in kilometers :1.1\n",
      "value in metere = 1100.0\n"
     ]
    }
   ],
   "source": [
    "a = float(input('enter a value in kilometers :'))\n",
    "b = 1000 * a\n",
    "print('value in metere =',b)"
   ]
  },
  {
   "cell_type": "code",
   "execution_count": 10,
   "id": "98b3bdd4",
   "metadata": {},
   "outputs": [
    {
     "name": "stdout",
     "output_type": "stream",
     "text": [
      "enter temperature of your city in Celcius :10\n",
      "your city Temperature in Farenheit =  50.0\n"
     ]
    }
   ],
   "source": [
    "#            QUESTION 2\n",
    "# Write a python program to convert clecius to farenheit?\n",
    "a = float(input('enter temperature of your city in Celcius :'))\n",
    "b = (9/5) * a + 32 \n",
    "print(\"your city Temperature in Farenheit = \",b)"
   ]
  },
  {
   "cell_type": "code",
   "execution_count": 12,
   "id": "365967a1",
   "metadata": {},
   "outputs": [
    {
     "name": "stdout",
     "output_type": "stream",
     "text": [
      "Enter calender year :2021\n",
      "Enter calender month :12\n",
      "   December 2021\n",
      "Mo Tu We Th Fr Sa Su\n",
      "       1  2  3  4  5\n",
      " 6  7  8  9 10 11 12\n",
      "13 14 15 16 17 18 19\n",
      "20 21 22 23 24 25 26\n",
      "27 28 29 30 31\n",
      "\n"
     ]
    }
   ],
   "source": [
    "#            QUESTION 3\n",
    "# Write a python program to display calender?\n",
    "import calendar \n",
    "year = int(input(\"Enter calender year :\"))\n",
    "month = int(input(\"Enter calender month :\"))\n",
    "print(calendar.month(year,month))"
   ]
  },
  {
   "cell_type": "code",
   "execution_count": 25,
   "id": "743a9549",
   "metadata": {},
   "outputs": [
    {
     "name": "stdout",
     "output_type": "stream",
     "text": [
      "enter the coefficients a, b, c of a quadratic equation ax^2+bx+c=0\n",
      "a=2\n",
      "b=4\n",
      "c=8\n",
      "two roots of the quadratic functions are : x1=  (-1+1.7320508075688772j) x2=  (-1-1.7320508075688772j)\n"
     ]
    }
   ],
   "source": [
    "#            QUESTION 4\n",
    "# Write a python program to solve quadratic equation? \n",
    "import cmath\n",
    "print(\"enter the coefficients a, b, c of a quadratic equation ax^2+bx+c=0\")\n",
    "a = int(input(\"a=\"))\n",
    "b = int(input(\"b=\"))\n",
    "c = int(input(\"c=\"))\n",
    "x1 = (-b + cmath.sqrt(b**2-4*a*c))/(2*a)\n",
    "x2 = (-b - cmath.sqrt(b**2-4*a*c))/(2*a)\n",
    "print(\"two roots of the quadratic functions are :\",\"x1= \",x1,\"x2= \",x2)"
   ]
  },
  {
   "cell_type": "code",
   "execution_count": 29,
   "id": "9a4670f4",
   "metadata": {},
   "outputs": [
    {
     "name": "stdout",
     "output_type": "stream",
     "text": [
      "enter variable a= 1\n",
      "enter variable b= 2\n",
      "a=  2.0 b=  1.0\n"
     ]
    }
   ],
   "source": [
    "#            QUESTION 5\n",
    "# Write a python program to swap two variables without temp variable?\n",
    "a = float(input(\"enter variable a= \"))\n",
    "b= float(input(\"enter variable b= \"))\n",
    "\n",
    "a = a + b\n",
    "b = a - b\n",
    "a = a - b\n",
    "\n",
    "print (\"a= \",a,\"b= \",b)"
   ]
  },
  {
   "cell_type": "code",
   "execution_count": null,
   "id": "6387e8a0",
   "metadata": {},
   "outputs": [],
   "source": []
  }
 ],
 "metadata": {
  "kernelspec": {
   "display_name": "Python 3",
   "language": "python",
   "name": "python3"
  },
  "language_info": {
   "codemirror_mode": {
    "name": "ipython",
    "version": 3
   },
   "file_extension": ".py",
   "mimetype": "text/x-python",
   "name": "python",
   "nbconvert_exporter": "python",
   "pygments_lexer": "ipython3",
   "version": "3.8.8"
  }
 },
 "nbformat": 4,
 "nbformat_minor": 5
}
